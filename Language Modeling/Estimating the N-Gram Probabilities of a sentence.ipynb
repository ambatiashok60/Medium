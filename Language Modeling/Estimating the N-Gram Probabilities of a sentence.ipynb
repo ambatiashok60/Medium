{
 "cells": [
  {
   "cell_type": "code",
   "execution_count": 1,
   "metadata": {},
   "outputs": [],
   "source": [
    "import numpy as np\n",
    "from nltk.corpus import brown"
   ]
  },
  {
   "cell_type": "code",
   "execution_count": 2,
   "metadata": {},
   "outputs": [],
   "source": [
    "words = list(brown.words())"
   ]
  },
  {
   "cell_type": "code",
   "execution_count": 3,
   "metadata": {},
   "outputs": [],
   "source": [
    "words_dict = dict()\n",
    "for word in words:\n",
    "    if word not in words_dict.keys():\n",
    "        words_dict[word] = 1\n",
    "    else:\n",
    "        words_dict[word] +=1"
   ]
  },
  {
   "cell_type": "code",
   "execution_count": 4,
   "metadata": {},
   "outputs": [],
   "source": [
    "occured_once = [i for i,j in words_dict.items() if j ==1]"
   ]
  },
  {
   "cell_type": "code",
   "execution_count": 5,
   "metadata": {},
   "outputs": [],
   "source": [
    "count = 0\n",
    "for num, word in enumerate(words):\n",
    "    if word in occured_once:\n",
    "        words[num] = \"OOV\""
   ]
  },
  {
   "cell_type": "code",
   "execution_count": 6,
   "metadata": {},
   "outputs": [],
   "source": [
    "sentence = \"I have never given it much thought\""
   ]
  },
  {
   "cell_type": "code",
   "execution_count": 7,
   "metadata": {},
   "outputs": [
    {
     "data": {
      "text/plain": [
       "['I', 'have', 'never', 'given', 'it', 'much', 'thought']"
      ]
     },
     "execution_count": 7,
     "metadata": {},
     "output_type": "execute_result"
    }
   ],
   "source": [
    "tokens = sentence.split()\n",
    "tokens"
   ]
  },
  {
   "cell_type": "code",
   "execution_count": 8,
   "metadata": {},
   "outputs": [],
   "source": [
    "for num,token in enumerate(tokens):\n",
    "    if not token in words:\n",
    "        tokens[num] = \"OOV\""
   ]
  },
  {
   "cell_type": "code",
   "execution_count": 9,
   "metadata": {},
   "outputs": [],
   "source": [
    "tokens = [token.lower() for token in tokens]\n",
    "words = [word.lower() for word in words]"
   ]
  },
  {
   "cell_type": "code",
   "execution_count": 10,
   "metadata": {},
   "outputs": [],
   "source": [
    "def bigram_probability(bigram,words):\n",
    "    count = [0,0]\n",
    "    for i in range(len(words)-1):\n",
    "        if (words[i] == bigram[0]):\n",
    "            count[1] += 1\n",
    "            if (words[i+1] == bigram[1]):\n",
    "                count[0] += 1\n",
    "    return count[0]/count[1], count"
   ]
  },
  {
   "cell_type": "code",
   "execution_count": 11,
   "metadata": {},
   "outputs": [],
   "source": [
    "bigrams = []\n",
    "for i in range(len(tokens)-1):\n",
    "    bigrams.append((tokens[i],tokens[i+1]))"
   ]
  },
  {
   "cell_type": "code",
   "execution_count": 12,
   "metadata": {},
   "outputs": [
    {
     "name": "stdout",
     "output_type": "stream",
     "text": [
      "[259, 5164]\n",
      "[24, 3942]\n",
      "[2, 697]\n",
      "[7, 377]\n",
      "[2, 8760]\n",
      "[2, 937]\n"
     ]
    }
   ],
   "source": [
    "for bigram in bigrams:\n",
    "    print(bigram_probability(bigram,words)[1])"
   ]
  },
  {
   "cell_type": "code",
   "execution_count": 13,
   "metadata": {},
   "outputs": [
    {
     "data": {
      "text/plain": [
       "[('i', 'have'),\n",
       " ('have', 'never'),\n",
       " ('never', 'given'),\n",
       " ('given', 'it'),\n",
       " ('it', 'much'),\n",
       " ('much', 'thought')]"
      ]
     },
     "execution_count": 13,
     "metadata": {},
     "output_type": "execute_result"
    }
   ],
   "source": [
    "bigrams"
   ]
  },
  {
   "cell_type": "code",
   "execution_count": 14,
   "metadata": {},
   "outputs": [],
   "source": [
    "def bigram_prob_sentence(tokens, bigrams):\n",
    "    prob = []\n",
    "    for bigram in bigrams:\n",
    "        p = bigram_probability(bigram,words)[0]\n",
    "        prob.append(p)\n",
    "    return np.prod(prob)"
   ]
  },
  {
   "cell_type": "code",
   "execution_count": 15,
   "metadata": {},
   "outputs": [
    {
     "data": {
      "text/plain": [
       "7.928268578305691e-15"
      ]
     },
     "execution_count": 15,
     "metadata": {},
     "output_type": "execute_result"
    }
   ],
   "source": [
    "bigram_prob_sentence(tokens, bigrams)"
   ]
  },
  {
   "cell_type": "code",
   "execution_count": 16,
   "metadata": {},
   "outputs": [],
   "source": [
    "trigrams = []\n",
    "for i in range(len(tokens)-2):\n",
    "    trigrams.append((tokens[i],tokens[i+1], tokens[i+2]))"
   ]
  },
  {
   "cell_type": "code",
   "execution_count": 17,
   "metadata": {},
   "outputs": [
    {
     "data": {
      "text/plain": [
       "[('i', 'have', 'never'),\n",
       " ('have', 'never', 'given'),\n",
       " ('never', 'given', 'it'),\n",
       " ('given', 'it', 'much'),\n",
       " ('it', 'much', 'thought')]"
      ]
     },
     "execution_count": 17,
     "metadata": {},
     "output_type": "execute_result"
    }
   ],
   "source": [
    "trigrams"
   ]
  },
  {
   "cell_type": "code",
   "execution_count": 18,
   "metadata": {},
   "outputs": [],
   "source": [
    "def trigram_probability(trigram,words):\n",
    "    count = [0,0]\n",
    "    for i in range(len(words)-2):\n",
    "        if (words[i] == trigram[0]) and (words[i+1] == trigram[1]):\n",
    "            count[1] += 1\n",
    "            if (words[i+2] == trigram[2]):\n",
    "                count[0] += 1\n",
    "    return count[0]/count[1], count"
   ]
  },
  {
   "cell_type": "code",
   "execution_count": 19,
   "metadata": {},
   "outputs": [
    {
     "name": "stdout",
     "output_type": "stream",
     "text": [
      "[8, 259]\n",
      "[0, 24]\n",
      "[0, 2]\n",
      "[1, 7]\n",
      "[1, 2]\n"
     ]
    }
   ],
   "source": [
    "for trigram in trigrams:\n",
    "    print(trigram_probability(trigram,words)[1])"
   ]
  },
  {
   "cell_type": "code",
   "execution_count": 20,
   "metadata": {},
   "outputs": [],
   "source": [
    "def trigram_prob_sentence(tokens, trigrams):\n",
    "    prob = []\n",
    "    for trigram in trigrams:\n",
    "        p = trigram_probability(trigram,words)[0]\n",
    "        prob.append(p)\n",
    "    return np.prod(prob)"
   ]
  },
  {
   "cell_type": "code",
   "execution_count": 21,
   "metadata": {},
   "outputs": [
    {
     "data": {
      "text/plain": [
       "0.0"
      ]
     },
     "execution_count": 21,
     "metadata": {},
     "output_type": "execute_result"
    }
   ],
   "source": [
    "trigram_prob_sentence(tokens, trigrams)"
   ]
  },
  {
   "cell_type": "code",
   "execution_count": 22,
   "metadata": {},
   "outputs": [],
   "source": [
    "unigrams = []\n",
    "for i in range(len(tokens)):\n",
    "    unigrams.append(tokens[i])"
   ]
  },
  {
   "cell_type": "code",
   "execution_count": 23,
   "metadata": {},
   "outputs": [
    {
     "name": "stdout",
     "output_type": "stream",
     "text": [
      "i\n",
      "have\n",
      "never\n",
      "given\n",
      "it\n",
      "much\n",
      "thought\n"
     ]
    }
   ],
   "source": [
    "for unigram in unigrams:\n",
    "    print(unigram)"
   ]
  },
  {
   "cell_type": "code",
   "execution_count": 24,
   "metadata": {},
   "outputs": [],
   "source": [
    "def unigram_probability(unigram,words):\n",
    "    count = [0,0]\n",
    "    for i in range(len(words)):\n",
    "        count[1] += 1\n",
    "        if (words[i] == unigram[0]):\n",
    "            count[0] += 1\n",
    "    return count[0]/count[1], count"
   ]
  },
  {
   "cell_type": "code",
   "execution_count": 25,
   "metadata": {},
   "outputs": [
    {
     "name": "stdout",
     "output_type": "stream",
     "text": [
      "[5164, 1161192]\n",
      "[23, 1161192]\n",
      "[38, 1161192]\n",
      "[16, 1161192]\n",
      "[5164, 1161192]\n",
      "[16, 1161192]\n",
      "[77, 1161192]\n"
     ]
    }
   ],
   "source": [
    "for unigram in unigrams:\n",
    "    print(unigram_probability(unigram,words)[1])"
   ]
  },
  {
   "cell_type": "code",
   "execution_count": 26,
   "metadata": {},
   "outputs": [],
   "source": [
    "def unigram_prob_sentence(tokens, unigrams):\n",
    "    prob = []\n",
    "    for unigram in unigrams:\n",
    "        p = unigram_probability(unigram,words)[0]\n",
    "        prob.append(p)\n",
    "    return np.prod(prob)"
   ]
  },
  {
   "cell_type": "code",
   "execution_count": 27,
   "metadata": {},
   "outputs": [
    {
     "data": {
      "text/plain": [
       "1.6139361322466987e-28"
      ]
     },
     "execution_count": 27,
     "metadata": {},
     "output_type": "execute_result"
    }
   ],
   "source": [
    "unigram_prob_sentence(tokens, unigrams)"
   ]
  },
  {
   "cell_type": "code",
   "execution_count": null,
   "metadata": {},
   "outputs": [],
   "source": []
  }
 ],
 "metadata": {
  "kernelspec": {
   "display_name": "Python 3",
   "language": "python",
   "name": "python3"
  },
  "language_info": {
   "codemirror_mode": {
    "name": "ipython",
    "version": 3
   },
   "file_extension": ".py",
   "mimetype": "text/x-python",
   "name": "python",
   "nbconvert_exporter": "python",
   "pygments_lexer": "ipython3",
   "version": "3.7.6"
  }
 },
 "nbformat": 4,
 "nbformat_minor": 4
}
